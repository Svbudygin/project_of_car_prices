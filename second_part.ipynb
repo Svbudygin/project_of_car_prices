{
 "cells": [
  {
   "cell_type": "code",
   "execution_count": 1,
   "outputs": [],
   "source": [
    "%matplotlib inline"
   ],
   "metadata": {
    "collapsed": false,
    "ExecuteTime": {
     "end_time": "2023-11-21T09:02:24.471732Z",
     "start_time": "2023-11-21T09:02:24.454443Z"
    }
   },
   "id": "5dfd875ea503f923"
  },
  {
   "cell_type": "code",
   "execution_count": 2,
   "outputs": [],
   "source": [
    "# !pip install pandas\n",
    "# !pip install matplotlib\n",
    "# !pip install plotly\n",
    "import pandas as pd\n",
    "import matplotlib.pyplot as plt\n",
    "import plotly.express as px"
   ],
   "metadata": {
    "collapsed": false,
    "ExecuteTime": {
     "end_time": "2023-11-21T09:02:24.531944Z",
     "start_time": "2023-11-21T09:02:24.465722Z"
    }
   },
   "id": "3a0ff54aa4402cc2"
  },
  {
   "cell_type": "code",
   "execution_count": 3,
   "outputs": [],
   "source": [
    "data = pd.read_csv('newcars.csv')"
   ],
   "metadata": {
    "collapsed": false,
    "ExecuteTime": {
     "end_time": "2023-11-21T09:02:27.221659Z",
     "start_time": "2023-11-21T09:02:24.532517Z"
    }
   },
   "id": "bb61166d9d8c625f"
  },
  {
   "cell_type": "markdown",
   "source": [
    "# Overview\n",
    "After cleaning up our file, adding a few columns, and efficiently rearranging the rows, we've observed the key statistics of our dataset. We now comprehend the primary values and items we'll be working with. It's time to visualize straightforward aspects that are easy to comprehend.\n",
    "\n",
    "1) I have chosen to create several line graphs that compare price and year, mileage and price, and mileage and power. Regarding the latter comparison, it may initially seem unconventional, but, as depicted below, it bears a closer resemblance to a genuine line graph with discernible dependencies, especially when juxtaposed with the other graphs. Additionally, I have opted to generate statistics specifically for Mercedes-Benz, rather than for every car, to ensure my comparisons are more pertinent and to avoid cluttering the statistics.\n",
    "2) My second plot, presented in the form of a histogram, serves the purpose of visually depicting the distribution of cars across specific brands by quantifying the frequency of each brand. This graphical representation is valuable in providing a quick and intuitive understanding of the dataset's brand distribution, facilitating insights into the relative abundance or scarcity of different brands within the overall dataset.\n",
    "3) The third and fourth graphs take the form of scatter plots, delineating the correlation between price and year for all cars in the dataset, with a special focus on Mercedes-Benz. These visualizations aim to provide a comprehensive understanding of how the pricing dynamics evolve over the years for both the entire dataset and the specific brand. By employing scatter plots, we gain insights into the dispersed distribution of prices relative to the manufacturing years, offering a nuanced perspective on the pricing trends within the dataset and the specific Mercedes-Benz subset.\n",
    "4) Last but certainly not least, I've presented two graphs depicting the count of Mercedes-Benz vehicles on the market across various years and the distribution of vehicles based on their horsepower. These visualizations serve to elucidate the fluctuation in the availability of Mercedes-Benz cars over different years and offer insights into the prevalence of various horsepower categories within the dataset."
   ],
   "metadata": {
    "collapsed": false
   },
   "id": "287a06c15751df03"
  },
  {
   "cell_type": "code",
   "execution_count": null,
   "outputs": [],
   "source": [
    "merc1 = data.loc[data['brand'] == 'Mercedes-Benz']\n",
    "merc = merc1.sort_values(by=['price', 'year', 'mileage', 'power'], ascending=True)[:10]\n",
    "plt.subplot(2, 2, 1)\n",
    "plt.plot(merc['price'], merc['year'])\n",
    "plt.xlabel('price')\n",
    "plt.ylabel('year')\n",
    "# plt.legend()\n",
    "plt.subplot(2, 2, 2)\n",
    "plt.xlabel('price')\n",
    "plt.ylabel('mileage')\n",
    "plt.plot(merc['price'], merc['mileage'])\n",
    "# plt.legend()\n",
    "plt.subplot(2, 1, 2)\n",
    "plt.ylabel('mileage')\n",
    "plt.xlabel('power')\n",
    "plt.plot(merc['power'], merc['mileage'])\n",
    "# plt.legend()\n",
    "\n",
    "plt.show()"
   ],
   "metadata": {
    "collapsed": false
   },
   "id": "4c1c4adedff213ef"
  },
  {
   "cell_type": "code",
   "execution_count": null,
   "outputs": [],
   "source": [
    "\n",
    "px.histogram(data.year,\n",
    "    marginal=\"box\",\n",
    "    nbins=50,\n",
    "    barmode=\"overlay\",\n",
    "    title=\"The number of cars on the market by year of production\")"
   ],
   "metadata": {
    "collapsed": false
   },
   "id": "133c42a47b0e0ded"
  },
  {
   "cell_type": "code",
   "execution_count": null,
   "outputs": [],
   "source": [
    "vc= data['brand'].value_counts()\n",
    "piedf = pd.DataFrame(data=zip(vc.index, vc.values))\n",
    "\n",
    "px.pie(piedf,values=1,\n",
    "    names=0,\n",
    "    title=\"The number of cars on the market by brands\",\n",
    "    hole=0.3).update_traces(textposition=\"inside\", textinfo=\"percent+label\")"
   ],
   "metadata": {
    "collapsed": false
   },
   "id": "f3ef68fd8f8b55d4"
  },
  {
   "cell_type": "code",
   "execution_count": null,
   "outputs": [],
   "source": [
    "ax = data.loc[data.brand == 'Toyota', 'year'].plot(kind='hist', alpha=0.3)\n",
    "data.loc[data.brand == 'Volkswagen', 'year'].plot(kind='hist', alpha=0.3, ax=ax)\n",
    "data.loc[data.brand == 'Chevrolet', 'year'].plot(kind='hist', alpha=0.3, ax=ax)\n",
    "ax.yaxis.set_label_text('The quantity of Toyota, Volkswagen, and Chevrolet on the market.')\n",
    "plt.legend()\n",
    "plt.show()"
   ],
   "metadata": {
    "collapsed": false
   },
   "id": "873d6d0ce746f0d3"
  },
  {
   "cell_type": "code",
   "execution_count": null,
   "outputs": [],
   "source": [
    "px.scatter(data, x='year', y='price', log_y=[0.01, 3000_000_000], log_x=[0.01, 1000000])"
   ],
   "metadata": {
    "collapsed": false
   },
   "id": "18d988203a7af625"
  },
  {
   "cell_type": "code",
   "execution_count": null,
   "outputs": [],
   "source": [
    "px.scatter(merc1, x='year', y='price', log_y=[0, 10_000_000])"
   ],
   "metadata": {
    "collapsed": false
   },
   "id": "27e76e3b9fa2c1d"
  },
  {
   "cell_type": "code",
   "execution_count": null,
   "outputs": [],
   "source": [
    "plt.subplot(1, 2, 1)\n",
    "plt.hist(merc1['power'], color='Orange')\n",
    "plt.xlabel('power')\n",
    "plt.ylabel('amount')\n",
    "plt.subplot(1, 2, 2)\n",
    "plt.hist(merc1['year'])\n",
    "plt.xlabel('year')\n",
    "plt.ylabel('amount')\n",
    "plt.show()"
   ],
   "metadata": {
    "collapsed": false
   },
   "id": "84e5e6af84f79fc4"
  },
  {
   "cell_type": "markdown",
   "source": [
    "# Substantial plots for detailed overview\n",
    "As we delve further into our dataset, it becomes imperative to conduct a correlation analysis—a statistical gauge delineating the magnitude and direction of linear associations between two variables. Focusing on our numeric columns (price, year, power, mileage), I intend to elucidate the interrelationships among these values and reveal latent patterns or trends. The meticulous scrutiny of correlations involving horsepower, price, mileage, and year seeks to unravel consequential associations and dependencies. This analytical endeavor promises to furnish valuable insights, illuminating how alterations in one variable may wield influence over another, thereby refining our comprehension of the nuanced dynamics inherent in our dataset."
   ],
   "metadata": {
    "collapsed": false
   },
   "id": "45bbbd53c58fe3cc"
  },
  {
   "cell_type": "code",
   "execution_count": 20,
   "outputs": [
    {
     "name": "stdout",
     "output_type": "stream",
     "text": [
      "            price      year   mileage     power\n",
      "price    1.000000  0.400534 -0.267206  0.608761\n",
      "year     0.400534  1.000000 -0.363736  0.185184\n",
      "mileage -0.267206 -0.363736  1.000000 -0.045202\n",
      "power    0.608761  0.185184 -0.045202  1.000000\n"
     ]
    }
   ],
   "source": [
    "y = data[['price', 'year', 'mileage', 'power']]\n",
    "corr = y.corr().style.background_gradient(cmap='coolwarm')\n",
    "print(corr.data)\n",
    "px.imshow(data[['price', 'year', 'mileage', 'power']].corr())"
   ],
   "metadata": {
    "collapsed": false,
    "ExecuteTime": {
     "end_time": "2023-11-21T09:08:05.310125Z",
     "start_time": "2023-11-21T09:08:02.942681Z"
    }
   },
   "id": "26885d548ea13a21"
  },
  {
   "cell_type": "code",
   "execution_count": null,
   "outputs": [],
   "source": [
    "\n",
    "pd.plotting.scatter_matrix(pd.DataFrame(data=data, columns=['price', 'year', 'mileage', 'power']), figsize=(20, 10))\n",
    "plt.show()"
   ],
   "metadata": {
    "collapsed": false
   },
   "id": "e18d913d77a05baf"
  },
  {
   "cell_type": "markdown",
   "source": [
    "1. <u><b>Price vs. Year (0.400534):</u></b>\n",
    "   \n",
    "   The positive correlation between car price and the year of manufacture (0.40) indicates that, on average, newer cars tend to command higher prices. This could be attributed to advancements in technology, safety features, and overall improvements in newer models.\n",
    "\n",
    "2. <u><b>Price vs. Mileage (-0.267206):</u></b>\n",
    "   \n",
    "   The negative correlation between car price and mileage (-0.27) suggests that, in general, lower mileage is associated with higher prices. This aligns with the common perception that cars with less wear and tear typically have higher market values.\n",
    "\n",
    "3.  <u><b>Price vs. Power (0.608761):</u></b>\n",
    "   \n",
    "    The strong positive correlation (0.61) between car price and horsepower implies that there is a substantial influence of engine power on pricing. Buyers seem willing to pay more for cars with higher horsepower, reflecting a demand for performance-oriented vehicles.\n",
    "\n",
    "4. <u><b>Year vs. Mileage (-0.363736):</u></b>\n",
    "\n",
    "   The moderate negative correlation (-0.36) between the year of manufacture and mileage indicates that newer cars tend to have lower mileage. This inverse relationship could be attributed to the expectation that older cars are likely to have accumulated more miles over time.\n",
    "\n",
    "5. <u><b>Year vs. Power (0.185184):</u></b>\n",
    "   \n",
    "   The relatively weak positive correlation (0.19) between the year of manufacture and horsepower suggests a nuanced relationship. While newer cars may, on average, have slightly higher horsepower, other factors influence the power-performance dynamic.\n",
    "\n",
    "6. <u><b>Mileage vs. Power (-0.045202):</u></b>\n",
    "   \n",
    "   The very weak negative correlation (-0.05) between mileage and horsepower implies that there is no clear relationship between a car's mileage and its horsepower. This suggests that factors other than mileage contribute more significantly to a car's power.\n",
    "\n",
    "7. <u><b>Causation Note:</u></b>\n",
    "   \n",
    "   Correlations show connections, but proving causation needs more evidence. External factors and missing variables might influence observed correlations.\n",
    "\n",
    "8. <u><b>Visualizing Data:</u></b>\n",
    "   \n",
    "   Using plots like scatter or regression plots helps understand relationships better. Visual exploration can uncover non-linear trends or outliers not entirely captured by correlation coefficients, which is why I included plots.\n"
   ],
   "metadata": {
    "collapsed": false
   },
   "id": "27eddb1c539dc319"
  },
  {
   "cell_type": "code",
   "execution_count": null,
   "outputs": [],
   "source": [
    "df = data\n",
    "df['branding'] = 'Other'\n",
    "df.loc[df['brand'].str.contains('Mercedes-Benz', case=False), 'branding'] = 'Mercedes'\n",
    "df.loc[df['brand'].str.contains('BMW', case=False), 'branding'] = 'BMW'\n",
    "df.loc[df['brand'].str.contains('Audi', case=False), 'branding'] = 'Audi'\n",
    "df.loc[df['brand'].str.contains('Toyota', case=False), 'branding'] = 'Toyota'\n",
    "fig = plt.figure(figsize=(100, 7))\n",
    "ax = fig.add_subplot(111, projection='3d')\n",
    "\n",
    "x = df['year']\n",
    "y = df['mileage']\n",
    "z = df['price']\n",
    "\n",
    "colors = {'Mercedes': 'red', 'BMW': 'blue', 'Audi': 'green', 'Toyota': 'orange', 'Other': 'gray'}\n",
    "df['Color'] = df['branding'].map(colors)\n",
    "\n",
    "ax.scatter(x, y, z, c=df['Color'], marker='o')\n",
    "\n",
    "ax.set_xlabel('Year')\n",
    "ax.set_ylabel('Mileage')\n",
    "ax.set_zlabel('Price')\n",
    "ax.set_title('3D Plot of Price, Year, and Mileage by Brand')\n",
    "\n",
    "for brand, color in colors.items():\n",
    "    ax.scatter([], [], [], c=color, label=brand)\n",
    "\n",
    "ax.legend()\n",
    "\n",
    "plt.show()\n"
   ],
   "metadata": {
    "collapsed": false
   },
   "id": "2fc4938627a11be7"
  },
  {
   "cell_type": "markdown",
   "source": [
    "The 3D plot illustrates relationships between the year of manufacture, mileage, and price for Mercedes, Toyota, BMW, Audi, and other cars. Key observations include:\n",
    "\n",
    "- Year vs. Price:\n",
    "Newer cars generally have higher prices, with distinct trends for each brand. Looking at our data, we can notice some interesting things. Mercedes-Benz has many new cars, and they tend to be pricier than Toyotas. There are also quite a few Toyotas with high mileage. In the BMW category, most cars are priced lower than Mercedes, except for those that's more expensive than the most Audi cars.\n",
    "- Mileage vs. Price:\n",
    "Significant mileage variation exists, with identifiable clusters for each brand.\n",
    "- Brand Differentiation:\n",
    "Color-coded points distinguish brands, highlighting unique pricing and mileage trends.\n",
    "- Insights for Further Analysis:\n",
    "Questions arise about factors influencing pricing, encouraging deeper exploration."
   ],
   "metadata": {
    "collapsed": false
   },
   "id": "25d5af369a63575f"
  },
  {
   "cell_type": "code",
   "execution_count": 18,
   "outputs": [],
   "source": [
    "data.to_csv('newestcars.csv')"
   ],
   "metadata": {
    "collapsed": false,
    "ExecuteTime": {
     "end_time": "2023-11-21T09:03:45.393798Z",
     "start_time": "2023-11-21T09:03:38.229227Z"
    }
   },
   "id": "3adda2b6e1545c38"
  }
 ],
 "metadata": {
  "kernelspec": {
   "display_name": "Python 3",
   "language": "python",
   "name": "python3"
  },
  "language_info": {
   "codemirror_mode": {
    "name": "ipython",
    "version": 2
   },
   "file_extension": ".py",
   "mimetype": "text/x-python",
   "name": "python",
   "nbconvert_exporter": "python",
   "pygments_lexer": "ipython2",
   "version": "2.7.6"
  }
 },
 "nbformat": 4,
 "nbformat_minor": 5
}
