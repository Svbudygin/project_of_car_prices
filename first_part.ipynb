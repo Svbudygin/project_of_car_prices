{
 "cells": [
  {
   "cell_type": "markdown",
   "source": [
    "# Car prices in Russia: DataSet analysis\n",
    "## Introduction:\n",
    "Lots of people have their own cars, and some of them are know a lot about the pricing of different types of cars. But the fact is that no one knows exactly what prices depend on. So, someppeople suppose that sports cars from very expensive brands such as Ferrari or Lamborghini cost the most, but alas we have models of not so luxurious cars such as Mercedes that cost more. BMW  fans may argue that prices depends only on horsepower and engine type. However, this logic falters when we take into account ancient cars, with only 20 hp, costing millions of dollars. Finally, prices are not hang on a singular factor. To move deeply into this complexity of connections between horsepower, mileage, and year, I intend to show correlations, graphs, and other patterns using tools like Pandas, Matplotlib, and Seaborn.\n",
    "\n",
    "Before we get started, take a quick look at a transcript of each of the items of my dataset, which I have collected especially for you.\n",
    "* \tBrand:\n",
    "    * The brand refers to the mark of a car, such as Mercedes, BMW, Toyota, etc. It represents the manufacturer or company that produces the vehicle.\n",
    "* \tName:\n",
    "    * The name corresponds to the specific model of car brand, such as RX 300, ML, etc.\n",
    "* \tBody Type:\n",
    "    * Provides information about the general shape and style of the vehicle, such as sedan, coupe, SUV, truck, etc.\n",
    "* \tColor:\n",
    "    * Indicates the visual appearance of the color of vehicle.\n",
    "* \tFuel Type:\n",
    "    * Specifies the type of fuel the vehicle uses for its movement, such as gasoline, diesel, electric, hybrid, etc.\n",
    "* \tYear:\n",
    "    * Represents the manufacturing year of the vehicle.\n",
    "* \tMileage:\n",
    "    * Refers to the total distance the vehicle has traveled, measured in kilometers.\n",
    "* \tTransmission:\n",
    "    * Describes the type of transmission system in the vehicle, such as automatic or manual.\n",
    "* \tPower:\n",
    "    * Indicates the amount of horse power the vehicle's engine produces.\n",
    "* \tPrice:\n",
    "    * Shows the cost of the vehicle.\n",
    "* \tVehicle Configuration:\n",
    "    * Describes the specific features of a particular vehicle.\n",
    "* \tEngine Name:\n",
    "    * It identifies the engine model.\n",
    "* \tEngine Displacement:\n",
    "    * Indicates the total volume of all the cylinders in the engine. It is usually measured in liters or cubic centimeters and provides information about the engine's size.\n",
    "* \tDate:\n",
    "    * Represents a specific point in time, often used in this context to indicate a relevant date related to the vehicle, such as the manufacturing date or an important event.\n",
    "* \tLocation:\n",
    "    * In this context, location signifies the website where the car information is located.\n",
    "* \tLink:\n",
    "    * The link directs to the specific website or page containing information about the car.\n",
    "*   Parse date\n",
    "   * Parse Date is the time when the information about the car was entered into the dataset."
   ],
   "metadata": {
    "collapsed": false
   },
   "id": "a87ee4ae9215ea45"
  },
  {
   "cell_type": "markdown",
   "source": [
    "### For my project, I'll be use a range of libraries to analyse data and generate visualizations. Here are they:"
   ],
   "metadata": {
    "collapsed": false
   },
   "id": "4f419133a1e4d2cd"
  },
  {
   "cell_type": "code",
   "execution_count": 19,
   "outputs": [],
   "source": [
    "%matplotlib inline\n",
    "# link to the dataset https://www.kaggle.com/datasets/ekibee/car-sales-information/data"
   ],
   "metadata": {
    "collapsed": false,
    "ExecuteTime": {
     "end_time": "2023-11-22T16:37:46.525594Z",
     "start_time": "2023-11-22T16:37:46.241894Z"
    }
   },
   "id": "8e1fbcbf5549a06e"
  },
  {
   "cell_type": "code",
   "execution_count": 20,
   "outputs": [],
   "source": [
    "# !pip install numpy\n",
    "# !pip install pandas\n",
    "import pandas as pd\n",
    "import numpy as np"
   ],
   "metadata": {
    "collapsed": false,
    "ExecuteTime": {
     "end_time": "2023-11-22T16:37:46.610382Z",
     "start_time": "2023-11-22T16:37:46.251420Z"
    }
   },
   "id": "c4305a2d9c3268ed"
  },
  {
   "cell_type": "markdown",
   "source": [
    "At first, let me demonstrate the structure of my dataset:"
   ],
   "metadata": {
    "collapsed": false
   },
   "id": "fdd7d615222d476c"
  },
  {
   "cell_type": "code",
   "execution_count": 21,
   "outputs": [
    {
     "data": {
      "text/plain": "              brand           name       bodyType        color fuelType  \\\n0        Volkswagen           Golf  Хэтчбек 5 дв.  Серебристый   Бензин   \n1              Лада       1111 Ока  Хэтчбек 3 дв.   Фиолетовый   Бензин   \n2            Toyota       Funcargo  Хэтчбек 5 дв.  Серебристый   Бензин   \n3              Лада         Гранта        Лифтбек        Серый   Бензин   \n4              Лада    Нива Легенд     Джип 3 дв.      Зеленый   Бензин   \n...             ...            ...            ...          ...      ...   \n1294752         BMW             X1     Джип 5 дв.        Серый   Дизель   \n1294753        Лада           2105          Седан        Белый   Бензин   \n1294754      Toyota          Camry          Седан        Серый   Бензин   \n1294755        Лада  4x4 2121 Нива     Джип 3 дв.        Белый   Бензин   \n1294756        Лада  4x4 2121 Нива     Джип 3 дв.        Белый   Бензин   \n\n           year   mileage transmission  power    price vehicleConfiguration  \\\n0           NaN  240000.0     Механика  101.0   280000                  NaN   \n1        1996.0   37000.0     Механика   33.0    95000         0.6 MT 11113   \n2        2002.0  295000.0         АКПП   87.0   380000                1.3 J   \n3        2018.0   16000.0     Механика  106.0   795000       1.6 MT Comfort   \n4           NaN       NaN     Механика   83.0  1022900                  NaN   \n...         ...       ...          ...    ...      ...                  ...   \n1294752     NaN  275000.0         АКПП  177.0  1000000                  NaN   \n1294753  1985.0  300000.0     Механика   64.0   165000        1.3 MT5 21050   \n1294754  2020.0   32000.0         АКПП  202.0  3100000            2.5 AT SE   \n1294755  1995.0  354000.0     Механика   79.0   298000               1.7 MT   \n1294756  1995.0  354000.0     Механика   79.0   320000               1.7 MT   \n\n        engineName engineDisplacement                 date      location  \\\n0              NaN                NaN  2023-04-02 00:00:00        Майкоп   \n1        ВАЗ-11113            0.7 LTR  2023-04-02 00:00:00        Майкоп   \n2           2NZ-FE            1.3 LTR  2023-04-02 00:00:00        Майкоп   \n3        ВАЗ-21127            1.6 LTR  2023-04-02 00:00:00        Майкоп   \n4              NaN                NaN  2023-04-02 00:00:00   Яблоновский   \n...            ...                ...                  ...           ...   \n1294752        NaN                NaN  2023-06-01 00:00:00      Черкесск   \n1294753   ВАЗ-2105            1.3 LTR  2023-06-01 00:00:00  Усть-Джегута   \n1294754   A25A-FKS            2.5 LTR  2023-06-01 00:00:00      Черкесск   \n1294755  ВАЗ-21213            1.7 LTR  2023-06-01 00:00:00      Черкесск   \n1294756  ВАЗ-21213            1.7 LTR  2023-06-01 00:00:00      Черкесск   \n\n                                                      link  \\\n0        https://maykop.drom.ru/volkswagen/golf/5001300...   \n1            https://maykop.drom.ru/lada/oka/50378140.html   \n2        https://maykop.drom.ru/toyota/funcargo/5037751...   \n3         https://maykop.drom.ru/lada/granta/50382492.html   \n4        https://yablonovskiy.drom.ru/lada/niva_legend/...   \n...                                                    ...   \n1294752     https://cherkessk.drom.ru/bmw/x1/51154874.html   \n1294753  https://ust-dzheguta.drom.ru/lada/2105/5114990...   \n1294754  https://cherkessk.drom.ru/toyota/camry/5115596...   \n1294755  https://cherkessk.drom.ru/lada/2121_4x4_niva/5...   \n1294756  https://cherkessk.drom.ru/lada/2121_4x4_niva/5...   \n\n                                               description  \\\n0        101 л.с. люк не течёт. Документы в порядке. Со...   \n1        Ваз Ока Год: 2003 Цвет: Баклажан, в ПТС так и ...   \n2        ХОРОШЕЕ СОСТОЯНИЕ. замена комплекта грм и помп...   \n3        Автомобиль в отличном техническом состоянии, н...   \n4        Модель: Нива Легенд Комплектация: LADA (ВАЗ) N...   \n...                                                    ...   \n1294752  Продам автомобиль BMW X1 2d в идеальном состоя...   \n1294753  продаю автомобиль изо не надобности автомобиль...   \n1294754  Америнка,в отличном состоянии,любые проверки. ...   \n1294755  Нива в хорошем состоянии, без гнили, лонжероны...   \n1294756  Нива в хорошем состоянии, без гнили, лонжероны...   \n\n                  parse_date  \n0        2023-05-02 01:00:00  \n1        2023-05-02 20:00:00  \n2        2023-05-02 20:00:00  \n3        2023-05-02 23:00:00  \n4        2023-05-02 20:00:00  \n...                      ...  \n1294752  2023-06-01 21:00:00  \n1294753  2023-06-01 13:00:00  \n1294754  2023-06-01 20:00:00  \n1294755  2023-06-01 23:00:00  \n1294756  2023-06-01 21:00:00  \n\n[1294757 rows x 18 columns]",
      "text/html": "<div>\n<style scoped>\n    .dataframe tbody tr th:only-of-type {\n        vertical-align: middle;\n    }\n\n    .dataframe tbody tr th {\n        vertical-align: top;\n    }\n\n    .dataframe thead th {\n        text-align: right;\n    }\n</style>\n<table border=\"1\" class=\"dataframe\">\n  <thead>\n    <tr style=\"text-align: right;\">\n      <th></th>\n      <th>brand</th>\n      <th>name</th>\n      <th>bodyType</th>\n      <th>color</th>\n      <th>fuelType</th>\n      <th>year</th>\n      <th>mileage</th>\n      <th>transmission</th>\n      <th>power</th>\n      <th>price</th>\n      <th>vehicleConfiguration</th>\n      <th>engineName</th>\n      <th>engineDisplacement</th>\n      <th>date</th>\n      <th>location</th>\n      <th>link</th>\n      <th>description</th>\n      <th>parse_date</th>\n    </tr>\n  </thead>\n  <tbody>\n    <tr>\n      <th>0</th>\n      <td>Volkswagen</td>\n      <td>Golf</td>\n      <td>Хэтчбек 5 дв.</td>\n      <td>Серебристый</td>\n      <td>Бензин</td>\n      <td>NaN</td>\n      <td>240000.0</td>\n      <td>Механика</td>\n      <td>101.0</td>\n      <td>280000</td>\n      <td>NaN</td>\n      <td>NaN</td>\n      <td>NaN</td>\n      <td>2023-04-02 00:00:00</td>\n      <td>Майкоп</td>\n      <td>https://maykop.drom.ru/volkswagen/golf/5001300...</td>\n      <td>101 л.с. люк не течёт. Документы в порядке. Со...</td>\n      <td>2023-05-02 01:00:00</td>\n    </tr>\n    <tr>\n      <th>1</th>\n      <td>Лада</td>\n      <td>1111 Ока</td>\n      <td>Хэтчбек 3 дв.</td>\n      <td>Фиолетовый</td>\n      <td>Бензин</td>\n      <td>1996.0</td>\n      <td>37000.0</td>\n      <td>Механика</td>\n      <td>33.0</td>\n      <td>95000</td>\n      <td>0.6 MT 11113</td>\n      <td>ВАЗ-11113</td>\n      <td>0.7 LTR</td>\n      <td>2023-04-02 00:00:00</td>\n      <td>Майкоп</td>\n      <td>https://maykop.drom.ru/lada/oka/50378140.html</td>\n      <td>Ваз Ока Год: 2003 Цвет: Баклажан, в ПТС так и ...</td>\n      <td>2023-05-02 20:00:00</td>\n    </tr>\n    <tr>\n      <th>2</th>\n      <td>Toyota</td>\n      <td>Funcargo</td>\n      <td>Хэтчбек 5 дв.</td>\n      <td>Серебристый</td>\n      <td>Бензин</td>\n      <td>2002.0</td>\n      <td>295000.0</td>\n      <td>АКПП</td>\n      <td>87.0</td>\n      <td>380000</td>\n      <td>1.3 J</td>\n      <td>2NZ-FE</td>\n      <td>1.3 LTR</td>\n      <td>2023-04-02 00:00:00</td>\n      <td>Майкоп</td>\n      <td>https://maykop.drom.ru/toyota/funcargo/5037751...</td>\n      <td>ХОРОШЕЕ СОСТОЯНИЕ. замена комплекта грм и помп...</td>\n      <td>2023-05-02 20:00:00</td>\n    </tr>\n    <tr>\n      <th>3</th>\n      <td>Лада</td>\n      <td>Гранта</td>\n      <td>Лифтбек</td>\n      <td>Серый</td>\n      <td>Бензин</td>\n      <td>2018.0</td>\n      <td>16000.0</td>\n      <td>Механика</td>\n      <td>106.0</td>\n      <td>795000</td>\n      <td>1.6 MT Comfort</td>\n      <td>ВАЗ-21127</td>\n      <td>1.6 LTR</td>\n      <td>2023-04-02 00:00:00</td>\n      <td>Майкоп</td>\n      <td>https://maykop.drom.ru/lada/granta/50382492.html</td>\n      <td>Автомобиль в отличном техническом состоянии, н...</td>\n      <td>2023-05-02 23:00:00</td>\n    </tr>\n    <tr>\n      <th>4</th>\n      <td>Лада</td>\n      <td>Нива Легенд</td>\n      <td>Джип 3 дв.</td>\n      <td>Зеленый</td>\n      <td>Бензин</td>\n      <td>NaN</td>\n      <td>NaN</td>\n      <td>Механика</td>\n      <td>83.0</td>\n      <td>1022900</td>\n      <td>NaN</td>\n      <td>NaN</td>\n      <td>NaN</td>\n      <td>2023-04-02 00:00:00</td>\n      <td>Яблоновский</td>\n      <td>https://yablonovskiy.drom.ru/lada/niva_legend/...</td>\n      <td>Модель: Нива Легенд Комплектация: LADA (ВАЗ) N...</td>\n      <td>2023-05-02 20:00:00</td>\n    </tr>\n    <tr>\n      <th>...</th>\n      <td>...</td>\n      <td>...</td>\n      <td>...</td>\n      <td>...</td>\n      <td>...</td>\n      <td>...</td>\n      <td>...</td>\n      <td>...</td>\n      <td>...</td>\n      <td>...</td>\n      <td>...</td>\n      <td>...</td>\n      <td>...</td>\n      <td>...</td>\n      <td>...</td>\n      <td>...</td>\n      <td>...</td>\n      <td>...</td>\n    </tr>\n    <tr>\n      <th>1294752</th>\n      <td>BMW</td>\n      <td>X1</td>\n      <td>Джип 5 дв.</td>\n      <td>Серый</td>\n      <td>Дизель</td>\n      <td>NaN</td>\n      <td>275000.0</td>\n      <td>АКПП</td>\n      <td>177.0</td>\n      <td>1000000</td>\n      <td>NaN</td>\n      <td>NaN</td>\n      <td>NaN</td>\n      <td>2023-06-01 00:00:00</td>\n      <td>Черкесск</td>\n      <td>https://cherkessk.drom.ru/bmw/x1/51154874.html</td>\n      <td>Продам автомобиль BMW X1 2d в идеальном состоя...</td>\n      <td>2023-06-01 21:00:00</td>\n    </tr>\n    <tr>\n      <th>1294753</th>\n      <td>Лада</td>\n      <td>2105</td>\n      <td>Седан</td>\n      <td>Белый</td>\n      <td>Бензин</td>\n      <td>1985.0</td>\n      <td>300000.0</td>\n      <td>Механика</td>\n      <td>64.0</td>\n      <td>165000</td>\n      <td>1.3 MT5 21050</td>\n      <td>ВАЗ-2105</td>\n      <td>1.3 LTR</td>\n      <td>2023-06-01 00:00:00</td>\n      <td>Усть-Джегута</td>\n      <td>https://ust-dzheguta.drom.ru/lada/2105/5114990...</td>\n      <td>продаю автомобиль изо не надобности автомобиль...</td>\n      <td>2023-06-01 13:00:00</td>\n    </tr>\n    <tr>\n      <th>1294754</th>\n      <td>Toyota</td>\n      <td>Camry</td>\n      <td>Седан</td>\n      <td>Серый</td>\n      <td>Бензин</td>\n      <td>2020.0</td>\n      <td>32000.0</td>\n      <td>АКПП</td>\n      <td>202.0</td>\n      <td>3100000</td>\n      <td>2.5 AT SE</td>\n      <td>A25A-FKS</td>\n      <td>2.5 LTR</td>\n      <td>2023-06-01 00:00:00</td>\n      <td>Черкесск</td>\n      <td>https://cherkessk.drom.ru/toyota/camry/5115596...</td>\n      <td>Америнка,в отличном состоянии,любые проверки. ...</td>\n      <td>2023-06-01 20:00:00</td>\n    </tr>\n    <tr>\n      <th>1294755</th>\n      <td>Лада</td>\n      <td>4x4 2121 Нива</td>\n      <td>Джип 3 дв.</td>\n      <td>Белый</td>\n      <td>Бензин</td>\n      <td>1995.0</td>\n      <td>354000.0</td>\n      <td>Механика</td>\n      <td>79.0</td>\n      <td>298000</td>\n      <td>1.7 MT</td>\n      <td>ВАЗ-21213</td>\n      <td>1.7 LTR</td>\n      <td>2023-06-01 00:00:00</td>\n      <td>Черкесск</td>\n      <td>https://cherkessk.drom.ru/lada/2121_4x4_niva/5...</td>\n      <td>Нива в хорошем состоянии, без гнили, лонжероны...</td>\n      <td>2023-06-01 23:00:00</td>\n    </tr>\n    <tr>\n      <th>1294756</th>\n      <td>Лада</td>\n      <td>4x4 2121 Нива</td>\n      <td>Джип 3 дв.</td>\n      <td>Белый</td>\n      <td>Бензин</td>\n      <td>1995.0</td>\n      <td>354000.0</td>\n      <td>Механика</td>\n      <td>79.0</td>\n      <td>320000</td>\n      <td>1.7 MT</td>\n      <td>ВАЗ-21213</td>\n      <td>1.7 LTR</td>\n      <td>2023-06-01 00:00:00</td>\n      <td>Черкесск</td>\n      <td>https://cherkessk.drom.ru/lada/2121_4x4_niva/5...</td>\n      <td>Нива в хорошем состоянии, без гнили, лонжероны...</td>\n      <td>2023-06-01 21:00:00</td>\n    </tr>\n  </tbody>\n</table>\n<p>1294757 rows × 18 columns</p>\n</div>"
     },
     "execution_count": 21,
     "metadata": {},
     "output_type": "execute_result"
    }
   ],
   "source": [
    "df = pd.read_csv('all_regions.csv')\n",
    "df"
   ],
   "metadata": {
    "collapsed": false,
    "ExecuteTime": {
     "end_time": "2023-11-22T16:38:17.772197Z",
     "start_time": "2023-11-22T16:37:46.252796Z"
    }
   },
   "id": "4eecd22e583ffcf"
  },
  {
   "cell_type": "code",
   "execution_count": 22,
   "outputs": [
    {
     "data": {
      "text/plain": "                year         mileage         power         price\ncount  724644.000000   771799.000000  1.273353e+06  1.294757e+06\nmean     2009.684535   154893.397115  1.415560e+02  1.444358e+06\nstd         9.367108   100738.336936  6.563943e+01  1.970257e+06\nmin      1936.000000     1000.000000  1.000000e+00  2.700000e+02\n25%      2003.000000    82000.000000  9.800000e+01  4.250000e+05\n50%      2011.000000   144000.000000  1.280000e+02  8.700000e+05\n75%      2017.000000   211000.000000  1.630000e+02  1.765000e+06\nmax      2023.000000  1000000.000000  1.000000e+03  1.500000e+08",
      "text/html": "<div>\n<style scoped>\n    .dataframe tbody tr th:only-of-type {\n        vertical-align: middle;\n    }\n\n    .dataframe tbody tr th {\n        vertical-align: top;\n    }\n\n    .dataframe thead th {\n        text-align: right;\n    }\n</style>\n<table border=\"1\" class=\"dataframe\">\n  <thead>\n    <tr style=\"text-align: right;\">\n      <th></th>\n      <th>year</th>\n      <th>mileage</th>\n      <th>power</th>\n      <th>price</th>\n    </tr>\n  </thead>\n  <tbody>\n    <tr>\n      <th>count</th>\n      <td>724644.000000</td>\n      <td>771799.000000</td>\n      <td>1.273353e+06</td>\n      <td>1.294757e+06</td>\n    </tr>\n    <tr>\n      <th>mean</th>\n      <td>2009.684535</td>\n      <td>154893.397115</td>\n      <td>1.415560e+02</td>\n      <td>1.444358e+06</td>\n    </tr>\n    <tr>\n      <th>std</th>\n      <td>9.367108</td>\n      <td>100738.336936</td>\n      <td>6.563943e+01</td>\n      <td>1.970257e+06</td>\n    </tr>\n    <tr>\n      <th>min</th>\n      <td>1936.000000</td>\n      <td>1000.000000</td>\n      <td>1.000000e+00</td>\n      <td>2.700000e+02</td>\n    </tr>\n    <tr>\n      <th>25%</th>\n      <td>2003.000000</td>\n      <td>82000.000000</td>\n      <td>9.800000e+01</td>\n      <td>4.250000e+05</td>\n    </tr>\n    <tr>\n      <th>50%</th>\n      <td>2011.000000</td>\n      <td>144000.000000</td>\n      <td>1.280000e+02</td>\n      <td>8.700000e+05</td>\n    </tr>\n    <tr>\n      <th>75%</th>\n      <td>2017.000000</td>\n      <td>211000.000000</td>\n      <td>1.630000e+02</td>\n      <td>1.765000e+06</td>\n    </tr>\n    <tr>\n      <th>max</th>\n      <td>2023.000000</td>\n      <td>1000000.000000</td>\n      <td>1.000000e+03</td>\n      <td>1.500000e+08</td>\n    </tr>\n  </tbody>\n</table>\n</div>"
     },
     "execution_count": 22,
     "metadata": {},
     "output_type": "execute_result"
    }
   ],
   "source": [
    "df.describe()"
   ],
   "metadata": {
    "collapsed": false,
    "ExecuteTime": {
     "end_time": "2023-11-22T16:38:17.948072Z",
     "start_time": "2023-11-22T16:38:17.730607Z"
    }
   },
   "id": "f4e348fe9427d390"
  },
  {
   "cell_type": "code",
   "execution_count": 23,
   "outputs": [
    {
     "name": "stdout",
     "output_type": "stream",
     "text": [
      "<class 'pandas.core.frame.DataFrame'>\n",
      "RangeIndex: 1294757 entries, 0 to 1294756\n",
      "Data columns (total 18 columns):\n",
      " #   Column                Non-Null Count    Dtype  \n",
      "---  ------                --------------    -----  \n",
      " 0   brand                 1294757 non-null  object \n",
      " 1   name                  1294757 non-null  object \n",
      " 2   bodyType              1294757 non-null  object \n",
      " 3   color                 1257029 non-null  object \n",
      " 4   fuelType              1289815 non-null  object \n",
      " 5   year                  724644 non-null   float64\n",
      " 6   mileage               771799 non-null   float64\n",
      " 7   transmission          1289563 non-null  object \n",
      " 8   power                 1273353 non-null  float64\n",
      " 9   price                 1294757 non-null  int64  \n",
      " 10  vehicleConfiguration  724647 non-null   object \n",
      " 11  engineName            720976 non-null   object \n",
      " 12  engineDisplacement    717625 non-null   object \n",
      " 13  date                  1294757 non-null  object \n",
      " 14  location              1294757 non-null  object \n",
      " 15  link                  1294757 non-null  object \n",
      " 16  description           1254405 non-null  object \n",
      " 17  parse_date            1294757 non-null  object \n",
      "dtypes: float64(3), int64(1), object(14)\n",
      "memory usage: 177.8+ MB\n"
     ]
    }
   ],
   "source": [
    "df.info()"
   ],
   "metadata": {
    "collapsed": false,
    "ExecuteTime": {
     "end_time": "2023-11-22T16:38:20.196922Z",
     "start_time": "2023-11-22T16:38:17.883299Z"
    }
   },
   "id": "638e1fb82b5be186"
  },
  {
   "cell_type": "markdown",
   "source": [
    "# Data cleanup and Transformation\n",
    "## In this table, there are numerous missing values. Let me work with them\n",
    "1) Initially, if the year information is absent, it would be great to compute the mean year for cars with the same name (model). However, if a vehicle's name uniquely identified, then finding its year becomes impossible, so I decided to drop this rows from my dataset.\n",
    "2) Similarly, I will apply the same strategy to the power column. To execute this, I will construct a pivot table and introduce two new columns, that will display the average horsepower and year for each car name (model).\n",
    "3) As for mileage, a NaN value implies a new vehicle with the mileage value of 0.\n",
    "4) Non-numeric columns will have NaN entries replaced with 'information not given,' as these columns serve just additional details.\n",
    "5) In the interest of making analysis more simple, I have dropped columns such as 'description,' 'link,' 'location,' and 'parse_date'.\n",
    "6) Furthermore, I have standardized the column names to lowercase.\n",
    "7) For \"fuel type\", \"transmission\", \"name\", \"brand\" and \"price\", I removed rows containing deleted NaN entries. This step is very important because attempting to replace NaN values in these columns is not possible due to lack of information.\n",
    "8) I have also change NaN values in the 'color' column by \"Белый,\" following the common practice on Auto.ru, where an absence of color denotes as a white vehicle.\n",
    "9) Additionally, I have reset the indices and reform certain columns, including 'power,' 'year,' and 'mileage,' to integer format.\n",
    " \n"
   ],
   "metadata": {
    "collapsed": false
   },
   "id": "25d41888afdad2d0"
  },
  {
   "cell_type": "code",
   "execution_count": 24,
   "outputs": [
    {
     "name": "stdout",
     "output_type": "stream",
     "text": [
      "             power     price    year\n",
      "name                                \n",
      "001            NaN   7431448  2021.0\n",
      "009            NaN  11800000     NaN\n",
      "05           254.0   4899000     NaN\n",
      "09           385.0   7729482     NaN\n",
      "1-Series     136.0   1119534  2009.0\n",
      "...            ...       ...     ...\n",
      "Х-рей        111.0    880878  2017.0\n",
      "Х-рей Кросс  117.0   1248434  2019.0\n",
      "Хантер       123.0    700439  2009.0\n",
      "Чайка        172.0   6750000     NaN\n",
      "Шанс          78.0    186460  2008.0\n",
      "\n",
      "[2223 rows x 3 columns]\n"
     ]
    }
   ],
   "source": [
    "def int_mean(arg):\n",
    "    try:\n",
    "        return int(arg.mean())\n",
    "    except ValueError:\n",
    "        return np.nan\n",
    "\n",
    "\n",
    "pivot_df = df.pivot_table(index='name', values=['year', 'power', 'price'], aggfunc=int_mean)\n",
    "print(pivot_df)\n"
   ],
   "metadata": {
    "collapsed": false,
    "ExecuteTime": {
     "end_time": "2023-11-22T16:38:20.990573Z",
     "start_time": "2023-11-22T16:38:20.146936Z"
    }
   },
   "id": "ab5d299f36f25b23"
  },
  {
   "cell_type": "code",
   "execution_count": 25,
   "outputs": [
    {
     "data": {
      "text/plain": "        brand         name       bodyType        color fuelType    year  \\\n0  Volkswagen         Golf  Хэтчбек 5 дв.  Серебристый   Бензин  2005.0   \n1        Лада     1111 Ока  Хэтчбек 3 дв.   Фиолетовый   Бензин  1996.0   \n2      Toyota     Funcargo  Хэтчбек 5 дв.  Серебристый   Бензин  2002.0   \n3        Лада       Гранта        Лифтбек        Серый   Бензин  2018.0   \n4        Лада  Нива Легенд     Джип 3 дв.      Зеленый   Бензин  2022.0   \n\n    mileage transmission  power    price  ... engineName engineDisplacement  \\\n0  240000.0     Механика  101.0   280000  ...        NaN                NaN   \n1   37000.0     Механика   33.0    95000  ...  ВАЗ-11113            0.7 LTR   \n2  295000.0         АКПП   87.0   380000  ...     2NZ-FE            1.3 LTR   \n3   16000.0     Механика  106.0   795000  ...  ВАЗ-21127            1.6 LTR   \n4       NaN     Механика   83.0  1022900  ...        NaN                NaN   \n\n                  date     location  \\\n0  2023-04-02 00:00:00       Майкоп   \n1  2023-04-02 00:00:00       Майкоп   \n2  2023-04-02 00:00:00       Майкоп   \n3  2023-04-02 00:00:00       Майкоп   \n4  2023-04-02 00:00:00  Яблоновский   \n\n                                                link  \\\n0  https://maykop.drom.ru/volkswagen/golf/5001300...   \n1      https://maykop.drom.ru/lada/oka/50378140.html   \n2  https://maykop.drom.ru/toyota/funcargo/5037751...   \n3   https://maykop.drom.ru/lada/granta/50382492.html   \n4  https://yablonovskiy.drom.ru/lada/niva_legend/...   \n\n                                         description           parse_date  \\\n0  101 л.с. люк не течёт. Документы в порядке. Со...  2023-05-02 01:00:00   \n1  Ваз Ока Год: 2003 Цвет: Баклажан, в ПТС так и ...  2023-05-02 20:00:00   \n2  ХОРОШЕЕ СОСТОЯНИЕ. замена комплекта грм и помп...  2023-05-02 20:00:00   \n3  Автомобиль в отличном техническом состоянии, н...  2023-05-02 23:00:00   \n4  Модель: Нива Легенд Комплектация: LADA (ВАЗ) N...  2023-05-02 20:00:00   \n\n  power_average  price_average  year_average  \n0         112.0         784790        2005.0  \n1          33.0          86463        1995.0  \n2          92.0         341564        2000.0  \n3          90.0         687676        2018.0  \n4          82.0         874968        2022.0  \n\n[5 rows x 21 columns]",
      "text/html": "<div>\n<style scoped>\n    .dataframe tbody tr th:only-of-type {\n        vertical-align: middle;\n    }\n\n    .dataframe tbody tr th {\n        vertical-align: top;\n    }\n\n    .dataframe thead th {\n        text-align: right;\n    }\n</style>\n<table border=\"1\" class=\"dataframe\">\n  <thead>\n    <tr style=\"text-align: right;\">\n      <th></th>\n      <th>brand</th>\n      <th>name</th>\n      <th>bodyType</th>\n      <th>color</th>\n      <th>fuelType</th>\n      <th>year</th>\n      <th>mileage</th>\n      <th>transmission</th>\n      <th>power</th>\n      <th>price</th>\n      <th>...</th>\n      <th>engineName</th>\n      <th>engineDisplacement</th>\n      <th>date</th>\n      <th>location</th>\n      <th>link</th>\n      <th>description</th>\n      <th>parse_date</th>\n      <th>power_average</th>\n      <th>price_average</th>\n      <th>year_average</th>\n    </tr>\n  </thead>\n  <tbody>\n    <tr>\n      <th>0</th>\n      <td>Volkswagen</td>\n      <td>Golf</td>\n      <td>Хэтчбек 5 дв.</td>\n      <td>Серебристый</td>\n      <td>Бензин</td>\n      <td>2005.0</td>\n      <td>240000.0</td>\n      <td>Механика</td>\n      <td>101.0</td>\n      <td>280000</td>\n      <td>...</td>\n      <td>NaN</td>\n      <td>NaN</td>\n      <td>2023-04-02 00:00:00</td>\n      <td>Майкоп</td>\n      <td>https://maykop.drom.ru/volkswagen/golf/5001300...</td>\n      <td>101 л.с. люк не течёт. Документы в порядке. Со...</td>\n      <td>2023-05-02 01:00:00</td>\n      <td>112.0</td>\n      <td>784790</td>\n      <td>2005.0</td>\n    </tr>\n    <tr>\n      <th>1</th>\n      <td>Лада</td>\n      <td>1111 Ока</td>\n      <td>Хэтчбек 3 дв.</td>\n      <td>Фиолетовый</td>\n      <td>Бензин</td>\n      <td>1996.0</td>\n      <td>37000.0</td>\n      <td>Механика</td>\n      <td>33.0</td>\n      <td>95000</td>\n      <td>...</td>\n      <td>ВАЗ-11113</td>\n      <td>0.7 LTR</td>\n      <td>2023-04-02 00:00:00</td>\n      <td>Майкоп</td>\n      <td>https://maykop.drom.ru/lada/oka/50378140.html</td>\n      <td>Ваз Ока Год: 2003 Цвет: Баклажан, в ПТС так и ...</td>\n      <td>2023-05-02 20:00:00</td>\n      <td>33.0</td>\n      <td>86463</td>\n      <td>1995.0</td>\n    </tr>\n    <tr>\n      <th>2</th>\n      <td>Toyota</td>\n      <td>Funcargo</td>\n      <td>Хэтчбек 5 дв.</td>\n      <td>Серебристый</td>\n      <td>Бензин</td>\n      <td>2002.0</td>\n      <td>295000.0</td>\n      <td>АКПП</td>\n      <td>87.0</td>\n      <td>380000</td>\n      <td>...</td>\n      <td>2NZ-FE</td>\n      <td>1.3 LTR</td>\n      <td>2023-04-02 00:00:00</td>\n      <td>Майкоп</td>\n      <td>https://maykop.drom.ru/toyota/funcargo/5037751...</td>\n      <td>ХОРОШЕЕ СОСТОЯНИЕ. замена комплекта грм и помп...</td>\n      <td>2023-05-02 20:00:00</td>\n      <td>92.0</td>\n      <td>341564</td>\n      <td>2000.0</td>\n    </tr>\n    <tr>\n      <th>3</th>\n      <td>Лада</td>\n      <td>Гранта</td>\n      <td>Лифтбек</td>\n      <td>Серый</td>\n      <td>Бензин</td>\n      <td>2018.0</td>\n      <td>16000.0</td>\n      <td>Механика</td>\n      <td>106.0</td>\n      <td>795000</td>\n      <td>...</td>\n      <td>ВАЗ-21127</td>\n      <td>1.6 LTR</td>\n      <td>2023-04-02 00:00:00</td>\n      <td>Майкоп</td>\n      <td>https://maykop.drom.ru/lada/granta/50382492.html</td>\n      <td>Автомобиль в отличном техническом состоянии, н...</td>\n      <td>2023-05-02 23:00:00</td>\n      <td>90.0</td>\n      <td>687676</td>\n      <td>2018.0</td>\n    </tr>\n    <tr>\n      <th>4</th>\n      <td>Лада</td>\n      <td>Нива Легенд</td>\n      <td>Джип 3 дв.</td>\n      <td>Зеленый</td>\n      <td>Бензин</td>\n      <td>2022.0</td>\n      <td>NaN</td>\n      <td>Механика</td>\n      <td>83.0</td>\n      <td>1022900</td>\n      <td>...</td>\n      <td>NaN</td>\n      <td>NaN</td>\n      <td>2023-04-02 00:00:00</td>\n      <td>Яблоновский</td>\n      <td>https://yablonovskiy.drom.ru/lada/niva_legend/...</td>\n      <td>Модель: Нива Легенд Комплектация: LADA (ВАЗ) N...</td>\n      <td>2023-05-02 20:00:00</td>\n      <td>82.0</td>\n      <td>874968</td>\n      <td>2022.0</td>\n    </tr>\n  </tbody>\n</table>\n<p>5 rows × 21 columns</p>\n</div>"
     },
     "execution_count": 25,
     "metadata": {},
     "output_type": "execute_result"
    }
   ],
   "source": [
    "df = df.merge(pivot_df, on='name', how='left', suffixes=('', '_average'))\n",
    "\n",
    "df.loc[df['year'].isna(), 'year'] = df.year_average\n",
    "df.loc[df['power'].isna(), 'power'] = df.power_average\n",
    "df.head()"
   ],
   "metadata": {
    "collapsed": false,
    "ExecuteTime": {
     "end_time": "2023-11-22T16:38:22.809032Z",
     "start_time": "2023-11-22T16:38:20.550629Z"
    }
   },
   "id": "618afb1c727d68bf"
  },
  {
   "cell_type": "code",
   "execution_count": 26,
   "outputs": [
    {
     "name": "stdout",
     "output_type": "stream",
     "text": [
      "(1294757, 21)\n",
      "(1282314, 21)\n"
     ]
    }
   ],
   "source": [
    "print(df.shape)\n",
    "df.dropna(axis=0, inplace=True, how='any', subset=['year', 'power'])\n",
    "print(df.shape)"
   ],
   "metadata": {
    "collapsed": false,
    "ExecuteTime": {
     "end_time": "2023-11-22T16:38:25.089770Z",
     "start_time": "2023-11-22T16:38:22.721497Z"
    }
   },
   "id": "6029db75ddd9eca0"
  },
  {
   "cell_type": "code",
   "execution_count": 27,
   "outputs": [
    {
     "data": {
      "text/plain": "        brand         name       bodyType        color fuelType    year  \\\n0  Volkswagen         Golf  Хэтчбек 5 дв.  Серебристый   Бензин  2005.0   \n1        Лада     1111 Ока  Хэтчбек 3 дв.   Фиолетовый   Бензин  1996.0   \n2      Toyota     Funcargo  Хэтчбек 5 дв.  Серебристый   Бензин  2002.0   \n3        Лада       Гранта        Лифтбек        Серый   Бензин  2018.0   \n4        Лада  Нива Легенд     Джип 3 дв.      Зеленый   Бензин  2022.0   \n\n    mileage transmission  power    price  ...             engineName  \\\n0  240000.0     Механика  101.0   280000  ...  information not given   \n1   37000.0     Механика   33.0    95000  ...              ВАЗ-11113   \n2  295000.0         АКПП   87.0   380000  ...                 2NZ-FE   \n3   16000.0     Механика  106.0   795000  ...              ВАЗ-21127   \n4       0.0     Механика   83.0  1022900  ...  information not given   \n\n      engineDisplacement                 date     location  \\\n0  information not given  2023-04-02 00:00:00       Майкоп   \n1                0.7 LTR  2023-04-02 00:00:00       Майкоп   \n2                1.3 LTR  2023-04-02 00:00:00       Майкоп   \n3                1.6 LTR  2023-04-02 00:00:00       Майкоп   \n4  information not given  2023-04-02 00:00:00  Яблоновский   \n\n                                                link  \\\n0  https://maykop.drom.ru/volkswagen/golf/5001300...   \n1      https://maykop.drom.ru/lada/oka/50378140.html   \n2  https://maykop.drom.ru/toyota/funcargo/5037751...   \n3   https://maykop.drom.ru/lada/granta/50382492.html   \n4  https://yablonovskiy.drom.ru/lada/niva_legend/...   \n\n                                         description           parse_date  \\\n0  101 л.с. люк не течёт. Документы в порядке. Со...  2023-05-02 01:00:00   \n1  Ваз Ока Год: 2003 Цвет: Баклажан, в ПТС так и ...  2023-05-02 20:00:00   \n2  ХОРОШЕЕ СОСТОЯНИЕ. замена комплекта грм и помп...  2023-05-02 20:00:00   \n3  Автомобиль в отличном техническом состоянии, н...  2023-05-02 23:00:00   \n4  Модель: Нива Легенд Комплектация: LADA (ВАЗ) N...  2023-05-02 20:00:00   \n\n  power_average  price_average  year_average  \n0         112.0         784790        2005.0  \n1          33.0          86463        1995.0  \n2          92.0         341564        2000.0  \n3          90.0         687676        2018.0  \n4          82.0         874968        2022.0  \n\n[5 rows x 21 columns]",
      "text/html": "<div>\n<style scoped>\n    .dataframe tbody tr th:only-of-type {\n        vertical-align: middle;\n    }\n\n    .dataframe tbody tr th {\n        vertical-align: top;\n    }\n\n    .dataframe thead th {\n        text-align: right;\n    }\n</style>\n<table border=\"1\" class=\"dataframe\">\n  <thead>\n    <tr style=\"text-align: right;\">\n      <th></th>\n      <th>brand</th>\n      <th>name</th>\n      <th>bodyType</th>\n      <th>color</th>\n      <th>fuelType</th>\n      <th>year</th>\n      <th>mileage</th>\n      <th>transmission</th>\n      <th>power</th>\n      <th>price</th>\n      <th>...</th>\n      <th>engineName</th>\n      <th>engineDisplacement</th>\n      <th>date</th>\n      <th>location</th>\n      <th>link</th>\n      <th>description</th>\n      <th>parse_date</th>\n      <th>power_average</th>\n      <th>price_average</th>\n      <th>year_average</th>\n    </tr>\n  </thead>\n  <tbody>\n    <tr>\n      <th>0</th>\n      <td>Volkswagen</td>\n      <td>Golf</td>\n      <td>Хэтчбек 5 дв.</td>\n      <td>Серебристый</td>\n      <td>Бензин</td>\n      <td>2005.0</td>\n      <td>240000.0</td>\n      <td>Механика</td>\n      <td>101.0</td>\n      <td>280000</td>\n      <td>...</td>\n      <td>information not given</td>\n      <td>information not given</td>\n      <td>2023-04-02 00:00:00</td>\n      <td>Майкоп</td>\n      <td>https://maykop.drom.ru/volkswagen/golf/5001300...</td>\n      <td>101 л.с. люк не течёт. Документы в порядке. Со...</td>\n      <td>2023-05-02 01:00:00</td>\n      <td>112.0</td>\n      <td>784790</td>\n      <td>2005.0</td>\n    </tr>\n    <tr>\n      <th>1</th>\n      <td>Лада</td>\n      <td>1111 Ока</td>\n      <td>Хэтчбек 3 дв.</td>\n      <td>Фиолетовый</td>\n      <td>Бензин</td>\n      <td>1996.0</td>\n      <td>37000.0</td>\n      <td>Механика</td>\n      <td>33.0</td>\n      <td>95000</td>\n      <td>...</td>\n      <td>ВАЗ-11113</td>\n      <td>0.7 LTR</td>\n      <td>2023-04-02 00:00:00</td>\n      <td>Майкоп</td>\n      <td>https://maykop.drom.ru/lada/oka/50378140.html</td>\n      <td>Ваз Ока Год: 2003 Цвет: Баклажан, в ПТС так и ...</td>\n      <td>2023-05-02 20:00:00</td>\n      <td>33.0</td>\n      <td>86463</td>\n      <td>1995.0</td>\n    </tr>\n    <tr>\n      <th>2</th>\n      <td>Toyota</td>\n      <td>Funcargo</td>\n      <td>Хэтчбек 5 дв.</td>\n      <td>Серебристый</td>\n      <td>Бензин</td>\n      <td>2002.0</td>\n      <td>295000.0</td>\n      <td>АКПП</td>\n      <td>87.0</td>\n      <td>380000</td>\n      <td>...</td>\n      <td>2NZ-FE</td>\n      <td>1.3 LTR</td>\n      <td>2023-04-02 00:00:00</td>\n      <td>Майкоп</td>\n      <td>https://maykop.drom.ru/toyota/funcargo/5037751...</td>\n      <td>ХОРОШЕЕ СОСТОЯНИЕ. замена комплекта грм и помп...</td>\n      <td>2023-05-02 20:00:00</td>\n      <td>92.0</td>\n      <td>341564</td>\n      <td>2000.0</td>\n    </tr>\n    <tr>\n      <th>3</th>\n      <td>Лада</td>\n      <td>Гранта</td>\n      <td>Лифтбек</td>\n      <td>Серый</td>\n      <td>Бензин</td>\n      <td>2018.0</td>\n      <td>16000.0</td>\n      <td>Механика</td>\n      <td>106.0</td>\n      <td>795000</td>\n      <td>...</td>\n      <td>ВАЗ-21127</td>\n      <td>1.6 LTR</td>\n      <td>2023-04-02 00:00:00</td>\n      <td>Майкоп</td>\n      <td>https://maykop.drom.ru/lada/granta/50382492.html</td>\n      <td>Автомобиль в отличном техническом состоянии, н...</td>\n      <td>2023-05-02 23:00:00</td>\n      <td>90.0</td>\n      <td>687676</td>\n      <td>2018.0</td>\n    </tr>\n    <tr>\n      <th>4</th>\n      <td>Лада</td>\n      <td>Нива Легенд</td>\n      <td>Джип 3 дв.</td>\n      <td>Зеленый</td>\n      <td>Бензин</td>\n      <td>2022.0</td>\n      <td>0.0</td>\n      <td>Механика</td>\n      <td>83.0</td>\n      <td>1022900</td>\n      <td>...</td>\n      <td>information not given</td>\n      <td>information not given</td>\n      <td>2023-04-02 00:00:00</td>\n      <td>Яблоновский</td>\n      <td>https://yablonovskiy.drom.ru/lada/niva_legend/...</td>\n      <td>Модель: Нива Легенд Комплектация: LADA (ВАЗ) N...</td>\n      <td>2023-05-02 20:00:00</td>\n      <td>82.0</td>\n      <td>874968</td>\n      <td>2022.0</td>\n    </tr>\n  </tbody>\n</table>\n<p>5 rows × 21 columns</p>\n</div>"
     },
     "execution_count": 27,
     "metadata": {},
     "output_type": "execute_result"
    }
   ],
   "source": [
    "NG= 'information not given'\n",
    "df = df.fillna({'mileage': 0, 'bodyType': NG, 'vehicleConfiguration': NG, 'engineName': NG, 'engineDisplacement': NG, 'color': 'Белый'})\n",
    "df.head()"
   ],
   "metadata": {
    "collapsed": false,
    "ExecuteTime": {
     "end_time": "2023-11-22T16:38:28.284318Z",
     "start_time": "2023-11-22T16:38:25.025648Z"
    }
   },
   "id": "bd8b000800b78665"
  },
  {
   "cell_type": "code",
   "execution_count": 28,
   "outputs": [
    {
     "data": {
      "text/plain": "        brand         name       bodyType        color fuelType    year  \\\n0  Volkswagen         Golf  Хэтчбек 5 дв.  Серебристый   Бензин  2005.0   \n1        Лада     1111 Ока  Хэтчбек 3 дв.   Фиолетовый   Бензин  1996.0   \n2      Toyota     Funcargo  Хэтчбек 5 дв.  Серебристый   Бензин  2002.0   \n3        Лада       Гранта        Лифтбек        Серый   Бензин  2018.0   \n4        Лада  Нива Легенд     Джип 3 дв.      Зеленый   Бензин  2022.0   \n\n    mileage transmission  power    price   vehicleConfiguration  \\\n0  240000.0     Механика  101.0   280000  information not given   \n1   37000.0     Механика   33.0    95000           0.6 MT 11113   \n2  295000.0         АКПП   87.0   380000                  1.3 J   \n3   16000.0     Механика  106.0   795000         1.6 MT Comfort   \n4       0.0     Механика   83.0  1022900  information not given   \n\n              engineName     engineDisplacement                 date  \\\n0  information not given  information not given  2023-04-02 00:00:00   \n1              ВАЗ-11113                0.7 LTR  2023-04-02 00:00:00   \n2                 2NZ-FE                1.3 LTR  2023-04-02 00:00:00   \n3              ВАЗ-21127                1.6 LTR  2023-04-02 00:00:00   \n4  information not given  information not given  2023-04-02 00:00:00   \n\n   power_average  price_average  year_average  \n0          112.0         784790        2005.0  \n1           33.0          86463        1995.0  \n2           92.0         341564        2000.0  \n3           90.0         687676        2018.0  \n4           82.0         874968        2022.0  ",
      "text/html": "<div>\n<style scoped>\n    .dataframe tbody tr th:only-of-type {\n        vertical-align: middle;\n    }\n\n    .dataframe tbody tr th {\n        vertical-align: top;\n    }\n\n    .dataframe thead th {\n        text-align: right;\n    }\n</style>\n<table border=\"1\" class=\"dataframe\">\n  <thead>\n    <tr style=\"text-align: right;\">\n      <th></th>\n      <th>brand</th>\n      <th>name</th>\n      <th>bodyType</th>\n      <th>color</th>\n      <th>fuelType</th>\n      <th>year</th>\n      <th>mileage</th>\n      <th>transmission</th>\n      <th>power</th>\n      <th>price</th>\n      <th>vehicleConfiguration</th>\n      <th>engineName</th>\n      <th>engineDisplacement</th>\n      <th>date</th>\n      <th>power_average</th>\n      <th>price_average</th>\n      <th>year_average</th>\n    </tr>\n  </thead>\n  <tbody>\n    <tr>\n      <th>0</th>\n      <td>Volkswagen</td>\n      <td>Golf</td>\n      <td>Хэтчбек 5 дв.</td>\n      <td>Серебристый</td>\n      <td>Бензин</td>\n      <td>2005.0</td>\n      <td>240000.0</td>\n      <td>Механика</td>\n      <td>101.0</td>\n      <td>280000</td>\n      <td>information not given</td>\n      <td>information not given</td>\n      <td>information not given</td>\n      <td>2023-04-02 00:00:00</td>\n      <td>112.0</td>\n      <td>784790</td>\n      <td>2005.0</td>\n    </tr>\n    <tr>\n      <th>1</th>\n      <td>Лада</td>\n      <td>1111 Ока</td>\n      <td>Хэтчбек 3 дв.</td>\n      <td>Фиолетовый</td>\n      <td>Бензин</td>\n      <td>1996.0</td>\n      <td>37000.0</td>\n      <td>Механика</td>\n      <td>33.0</td>\n      <td>95000</td>\n      <td>0.6 MT 11113</td>\n      <td>ВАЗ-11113</td>\n      <td>0.7 LTR</td>\n      <td>2023-04-02 00:00:00</td>\n      <td>33.0</td>\n      <td>86463</td>\n      <td>1995.0</td>\n    </tr>\n    <tr>\n      <th>2</th>\n      <td>Toyota</td>\n      <td>Funcargo</td>\n      <td>Хэтчбек 5 дв.</td>\n      <td>Серебристый</td>\n      <td>Бензин</td>\n      <td>2002.0</td>\n      <td>295000.0</td>\n      <td>АКПП</td>\n      <td>87.0</td>\n      <td>380000</td>\n      <td>1.3 J</td>\n      <td>2NZ-FE</td>\n      <td>1.3 LTR</td>\n      <td>2023-04-02 00:00:00</td>\n      <td>92.0</td>\n      <td>341564</td>\n      <td>2000.0</td>\n    </tr>\n    <tr>\n      <th>3</th>\n      <td>Лада</td>\n      <td>Гранта</td>\n      <td>Лифтбек</td>\n      <td>Серый</td>\n      <td>Бензин</td>\n      <td>2018.0</td>\n      <td>16000.0</td>\n      <td>Механика</td>\n      <td>106.0</td>\n      <td>795000</td>\n      <td>1.6 MT Comfort</td>\n      <td>ВАЗ-21127</td>\n      <td>1.6 LTR</td>\n      <td>2023-04-02 00:00:00</td>\n      <td>90.0</td>\n      <td>687676</td>\n      <td>2018.0</td>\n    </tr>\n    <tr>\n      <th>4</th>\n      <td>Лада</td>\n      <td>Нива Легенд</td>\n      <td>Джип 3 дв.</td>\n      <td>Зеленый</td>\n      <td>Бензин</td>\n      <td>2022.0</td>\n      <td>0.0</td>\n      <td>Механика</td>\n      <td>83.0</td>\n      <td>1022900</td>\n      <td>information not given</td>\n      <td>information not given</td>\n      <td>information not given</td>\n      <td>2023-04-02 00:00:00</td>\n      <td>82.0</td>\n      <td>874968</td>\n      <td>2022.0</td>\n    </tr>\n  </tbody>\n</table>\n</div>"
     },
     "execution_count": 28,
     "metadata": {},
     "output_type": "execute_result"
    }
   ],
   "source": [
    "df = df.drop(['description', 'link', 'location', 'parse_date'], axis=1)\n",
    "df.head()"
   ],
   "metadata": {
    "collapsed": false,
    "ExecuteTime": {
     "end_time": "2023-11-22T16:38:28.617964Z",
     "start_time": "2023-11-22T16:38:28.257697Z"
    }
   },
   "id": "8e79ec6d6d5c51a6"
  },
  {
   "cell_type": "code",
   "execution_count": 29,
   "outputs": [
    {
     "data": {
      "text/plain": "          brand           name    bodytype  color fueltype    year   mileage  \\\n1294752     BMW             X1  Джип 5 дв.  Серый   Дизель  2013.0  275000.0   \n1294753    Лада           2105       Седан  Белый   Бензин  1985.0  300000.0   \n1294754  Toyota          Camry       Седан  Серый   Бензин  2020.0   32000.0   \n1294755    Лада  4x4 2121 Нива  Джип 3 дв.  Белый   Бензин  1995.0  354000.0   \n1294756    Лада  4x4 2121 Нива  Джип 3 дв.  Белый   Бензин  1995.0  354000.0   \n\n        transmission  power    price   vehicleconfiguration  \\\n1294752         АКПП  177.0  1000000  information not given   \n1294753     Механика   64.0   165000          1.3 MT5 21050   \n1294754         АКПП  202.0  3100000              2.5 AT SE   \n1294755     Механика   79.0   298000                 1.7 MT   \n1294756     Механика   79.0   320000                 1.7 MT   \n\n                    enginename     enginedisplacement                 date  \\\n1294752  information not given  information not given  2023-06-01 00:00:00   \n1294753               ВАЗ-2105                1.3 LTR  2023-06-01 00:00:00   \n1294754               A25A-FKS                2.5 LTR  2023-06-01 00:00:00   \n1294755              ВАЗ-21213                1.7 LTR  2023-06-01 00:00:00   \n1294756              ВАЗ-21213                1.7 LTR  2023-06-01 00:00:00   \n\n         power_average  price_average  year_average  \n1294752          169.0        1880223        2013.0  \n1294753           71.0          93859        1991.0  \n1294754          179.0        1834807        2009.0  \n1294755           80.0         404464        1998.0  \n1294756           80.0         404464        1998.0  ",
      "text/html": "<div>\n<style scoped>\n    .dataframe tbody tr th:only-of-type {\n        vertical-align: middle;\n    }\n\n    .dataframe tbody tr th {\n        vertical-align: top;\n    }\n\n    .dataframe thead th {\n        text-align: right;\n    }\n</style>\n<table border=\"1\" class=\"dataframe\">\n  <thead>\n    <tr style=\"text-align: right;\">\n      <th></th>\n      <th>brand</th>\n      <th>name</th>\n      <th>bodytype</th>\n      <th>color</th>\n      <th>fueltype</th>\n      <th>year</th>\n      <th>mileage</th>\n      <th>transmission</th>\n      <th>power</th>\n      <th>price</th>\n      <th>vehicleconfiguration</th>\n      <th>enginename</th>\n      <th>enginedisplacement</th>\n      <th>date</th>\n      <th>power_average</th>\n      <th>price_average</th>\n      <th>year_average</th>\n    </tr>\n  </thead>\n  <tbody>\n    <tr>\n      <th>1294752</th>\n      <td>BMW</td>\n      <td>X1</td>\n      <td>Джип 5 дв.</td>\n      <td>Серый</td>\n      <td>Дизель</td>\n      <td>2013.0</td>\n      <td>275000.0</td>\n      <td>АКПП</td>\n      <td>177.0</td>\n      <td>1000000</td>\n      <td>information not given</td>\n      <td>information not given</td>\n      <td>information not given</td>\n      <td>2023-06-01 00:00:00</td>\n      <td>169.0</td>\n      <td>1880223</td>\n      <td>2013.0</td>\n    </tr>\n    <tr>\n      <th>1294753</th>\n      <td>Лада</td>\n      <td>2105</td>\n      <td>Седан</td>\n      <td>Белый</td>\n      <td>Бензин</td>\n      <td>1985.0</td>\n      <td>300000.0</td>\n      <td>Механика</td>\n      <td>64.0</td>\n      <td>165000</td>\n      <td>1.3 MT5 21050</td>\n      <td>ВАЗ-2105</td>\n      <td>1.3 LTR</td>\n      <td>2023-06-01 00:00:00</td>\n      <td>71.0</td>\n      <td>93859</td>\n      <td>1991.0</td>\n    </tr>\n    <tr>\n      <th>1294754</th>\n      <td>Toyota</td>\n      <td>Camry</td>\n      <td>Седан</td>\n      <td>Серый</td>\n      <td>Бензин</td>\n      <td>2020.0</td>\n      <td>32000.0</td>\n      <td>АКПП</td>\n      <td>202.0</td>\n      <td>3100000</td>\n      <td>2.5 AT SE</td>\n      <td>A25A-FKS</td>\n      <td>2.5 LTR</td>\n      <td>2023-06-01 00:00:00</td>\n      <td>179.0</td>\n      <td>1834807</td>\n      <td>2009.0</td>\n    </tr>\n    <tr>\n      <th>1294755</th>\n      <td>Лада</td>\n      <td>4x4 2121 Нива</td>\n      <td>Джип 3 дв.</td>\n      <td>Белый</td>\n      <td>Бензин</td>\n      <td>1995.0</td>\n      <td>354000.0</td>\n      <td>Механика</td>\n      <td>79.0</td>\n      <td>298000</td>\n      <td>1.7 MT</td>\n      <td>ВАЗ-21213</td>\n      <td>1.7 LTR</td>\n      <td>2023-06-01 00:00:00</td>\n      <td>80.0</td>\n      <td>404464</td>\n      <td>1998.0</td>\n    </tr>\n    <tr>\n      <th>1294756</th>\n      <td>Лада</td>\n      <td>4x4 2121 Нива</td>\n      <td>Джип 3 дв.</td>\n      <td>Белый</td>\n      <td>Бензин</td>\n      <td>1995.0</td>\n      <td>354000.0</td>\n      <td>Механика</td>\n      <td>79.0</td>\n      <td>320000</td>\n      <td>1.7 MT</td>\n      <td>ВАЗ-21213</td>\n      <td>1.7 LTR</td>\n      <td>2023-06-01 00:00:00</td>\n      <td>80.0</td>\n      <td>404464</td>\n      <td>1998.0</td>\n    </tr>\n  </tbody>\n</table>\n</div>"
     },
     "execution_count": 29,
     "metadata": {},
     "output_type": "execute_result"
    }
   ],
   "source": [
    "df.columns = df.columns.str.lower()\n",
    "df.tail()"
   ],
   "metadata": {
    "collapsed": false,
    "ExecuteTime": {
     "end_time": "2023-11-22T16:38:28.621268Z",
     "start_time": "2023-11-22T16:38:28.397052Z"
    }
   },
   "id": "a0d6f4e49dc3c1eb"
  },
  {
   "cell_type": "code",
   "execution_count": 30,
   "outputs": [
    {
     "name": "stdout",
     "output_type": "stream",
     "text": [
      "(1275110, 17)\n"
     ]
    }
   ],
   "source": [
    "df.dropna(axis=0, inplace=True, how='any', subset=['fueltype', 'transmission', 'name', 'brand', 'price'])\n",
    "print(df.shape)\n"
   ],
   "metadata": {
    "collapsed": false,
    "ExecuteTime": {
     "end_time": "2023-11-22T16:38:29.013162Z",
     "start_time": "2023-11-22T16:38:28.402316Z"
    }
   },
   "id": "98a2d54ac6c973b1"
  },
  {
   "cell_type": "code",
   "execution_count": 31,
   "outputs": [
    {
     "data": {
      "text/plain": "        brand         name       bodytype        color fueltype  year  \\\n0  Volkswagen         Golf  Хэтчбек 5 дв.  Серебристый   Бензин  2005   \n1        Лада     1111 Ока  Хэтчбек 3 дв.   Фиолетовый   Бензин  1996   \n2      Toyota     Funcargo  Хэтчбек 5 дв.  Серебристый   Бензин  2002   \n3        Лада       Гранта        Лифтбек        Серый   Бензин  2018   \n4        Лада  Нива Легенд     Джип 3 дв.      Зеленый   Бензин  2022   \n\n   mileage transmission  power    price   vehicleconfiguration  \\\n0   240000     Механика    101   280000  information not given   \n1    37000     Механика     33    95000           0.6 MT 11113   \n2   295000         АКПП     87   380000                  1.3 J   \n3    16000     Механика    106   795000         1.6 MT Comfort   \n4        0     Механика     83  1022900  information not given   \n\n              enginename     enginedisplacement                 date  \\\n0  information not given  information not given  2023-04-02 00:00:00   \n1              ВАЗ-11113                0.7 LTR  2023-04-02 00:00:00   \n2                 2NZ-FE                1.3 LTR  2023-04-02 00:00:00   \n3              ВАЗ-21127                1.6 LTR  2023-04-02 00:00:00   \n4  information not given  information not given  2023-04-02 00:00:00   \n\n   power_average  price_average  year_average  \n0          112.0         784790        2005.0  \n1           33.0          86463        1995.0  \n2           92.0         341564        2000.0  \n3           90.0         687676        2018.0  \n4           82.0         874968        2022.0  ",
      "text/html": "<div>\n<style scoped>\n    .dataframe tbody tr th:only-of-type {\n        vertical-align: middle;\n    }\n\n    .dataframe tbody tr th {\n        vertical-align: top;\n    }\n\n    .dataframe thead th {\n        text-align: right;\n    }\n</style>\n<table border=\"1\" class=\"dataframe\">\n  <thead>\n    <tr style=\"text-align: right;\">\n      <th></th>\n      <th>brand</th>\n      <th>name</th>\n      <th>bodytype</th>\n      <th>color</th>\n      <th>fueltype</th>\n      <th>year</th>\n      <th>mileage</th>\n      <th>transmission</th>\n      <th>power</th>\n      <th>price</th>\n      <th>vehicleconfiguration</th>\n      <th>enginename</th>\n      <th>enginedisplacement</th>\n      <th>date</th>\n      <th>power_average</th>\n      <th>price_average</th>\n      <th>year_average</th>\n    </tr>\n  </thead>\n  <tbody>\n    <tr>\n      <th>0</th>\n      <td>Volkswagen</td>\n      <td>Golf</td>\n      <td>Хэтчбек 5 дв.</td>\n      <td>Серебристый</td>\n      <td>Бензин</td>\n      <td>2005</td>\n      <td>240000</td>\n      <td>Механика</td>\n      <td>101</td>\n      <td>280000</td>\n      <td>information not given</td>\n      <td>information not given</td>\n      <td>information not given</td>\n      <td>2023-04-02 00:00:00</td>\n      <td>112.0</td>\n      <td>784790</td>\n      <td>2005.0</td>\n    </tr>\n    <tr>\n      <th>1</th>\n      <td>Лада</td>\n      <td>1111 Ока</td>\n      <td>Хэтчбек 3 дв.</td>\n      <td>Фиолетовый</td>\n      <td>Бензин</td>\n      <td>1996</td>\n      <td>37000</td>\n      <td>Механика</td>\n      <td>33</td>\n      <td>95000</td>\n      <td>0.6 MT 11113</td>\n      <td>ВАЗ-11113</td>\n      <td>0.7 LTR</td>\n      <td>2023-04-02 00:00:00</td>\n      <td>33.0</td>\n      <td>86463</td>\n      <td>1995.0</td>\n    </tr>\n    <tr>\n      <th>2</th>\n      <td>Toyota</td>\n      <td>Funcargo</td>\n      <td>Хэтчбек 5 дв.</td>\n      <td>Серебристый</td>\n      <td>Бензин</td>\n      <td>2002</td>\n      <td>295000</td>\n      <td>АКПП</td>\n      <td>87</td>\n      <td>380000</td>\n      <td>1.3 J</td>\n      <td>2NZ-FE</td>\n      <td>1.3 LTR</td>\n      <td>2023-04-02 00:00:00</td>\n      <td>92.0</td>\n      <td>341564</td>\n      <td>2000.0</td>\n    </tr>\n    <tr>\n      <th>3</th>\n      <td>Лада</td>\n      <td>Гранта</td>\n      <td>Лифтбек</td>\n      <td>Серый</td>\n      <td>Бензин</td>\n      <td>2018</td>\n      <td>16000</td>\n      <td>Механика</td>\n      <td>106</td>\n      <td>795000</td>\n      <td>1.6 MT Comfort</td>\n      <td>ВАЗ-21127</td>\n      <td>1.6 LTR</td>\n      <td>2023-04-02 00:00:00</td>\n      <td>90.0</td>\n      <td>687676</td>\n      <td>2018.0</td>\n    </tr>\n    <tr>\n      <th>4</th>\n      <td>Лада</td>\n      <td>Нива Легенд</td>\n      <td>Джип 3 дв.</td>\n      <td>Зеленый</td>\n      <td>Бензин</td>\n      <td>2022</td>\n      <td>0</td>\n      <td>Механика</td>\n      <td>83</td>\n      <td>1022900</td>\n      <td>information not given</td>\n      <td>information not given</td>\n      <td>information not given</td>\n      <td>2023-04-02 00:00:00</td>\n      <td>82.0</td>\n      <td>874968</td>\n      <td>2022.0</td>\n    </tr>\n  </tbody>\n</table>\n</div>"
     },
     "execution_count": 31,
     "metadata": {},
     "output_type": "execute_result"
    }
   ],
   "source": [
    "df = df.reset_index(drop=True)\n",
    "df.year = df.year.apply(int)\n",
    "df.power = df.power.apply(int)\n",
    "df.mileage = df.mileage.apply(int)\n",
    "df.head()"
   ],
   "metadata": {
    "collapsed": false,
    "ExecuteTime": {
     "end_time": "2023-11-22T16:38:30.127247Z",
     "start_time": "2023-11-22T16:38:28.776079Z"
    }
   },
   "id": "c380a8973e51913c"
  },
  {
   "cell_type": "code",
   "execution_count": 32,
   "outputs": [],
   "source": [
    "df.to_csv('newcars.csv')\n",
    "data = df"
   ],
   "metadata": {
    "collapsed": false,
    "ExecuteTime": {
     "end_time": "2023-11-22T16:38:36.659314Z",
     "start_time": "2023-11-22T16:38:30.090070Z"
    }
   },
   "id": "668ea1eb2dbb6270"
  },
  {
   "cell_type": "markdown",
   "source": [
    "# Descriptive statistics\n",
    "<b>I have opted to provide a description of 'year,' 'mileage,' 'power,' and 'price,' by showing their mean, minimum, maximum, median, and standard deviation values</b> because understanding these statistical measures is crucial for understanding the hole picture of my dataset. By analyzing the mean, I can identify the average values, while the minimum and maximum values presents the range and extremities of the data. The median helps to gauge the central tendency, and the standard deviation quantifies the dispersion of values around the mean. This comprehensive statistical overview is essential for making informed decisions, identifying trends, and denoting the usability of the dataset."
   ],
   "metadata": {
    "collapsed": false
   },
   "id": "6f312f05a24d3f56"
  },
  {
   "cell_type": "code",
   "execution_count": 33,
   "outputs": [
    {
     "name": "stdout",
     "output_type": "stream",
     "text": [
      "<class 'pandas.core.frame.DataFrame'>\n",
      "RangeIndex: 1275110 entries, 0 to 1275109\n",
      "Data columns (total 17 columns):\n",
      " #   Column                Non-Null Count    Dtype  \n",
      "---  ------                --------------    -----  \n",
      " 0   brand                 1275110 non-null  object \n",
      " 1   name                  1275110 non-null  object \n",
      " 2   bodytype              1275110 non-null  object \n",
      " 3   color                 1275110 non-null  object \n",
      " 4   fueltype              1275110 non-null  object \n",
      " 5   year                  1275110 non-null  int64  \n",
      " 6   mileage               1275110 non-null  int64  \n",
      " 7   transmission          1275110 non-null  object \n",
      " 8   power                 1275110 non-null  int64  \n",
      " 9   price                 1275110 non-null  int64  \n",
      " 10  vehicleconfiguration  1275110 non-null  object \n",
      " 11  enginename            1275110 non-null  object \n",
      " 12  enginedisplacement    1275110 non-null  object \n",
      " 13  date                  1275110 non-null  object \n",
      " 14  power_average         1275110 non-null  float64\n",
      " 15  price_average         1275110 non-null  int64  \n",
      " 16  year_average          1275110 non-null  float64\n",
      "dtypes: float64(2), int64(5), object(10)\n",
      "memory usage: 165.4+ MB\n",
      "None\n",
      "Shape of the dataset: 1275110 rows by 17 columns\n"
     ]
    }
   ],
   "source": [
    "print(data.info())\n",
    "print(f'Shape of the dataset: {data.shape[0]} rows by {data.shape[1]} columns')"
   ],
   "metadata": {
    "collapsed": false,
    "ExecuteTime": {
     "end_time": "2023-11-22T16:38:37.030910Z",
     "start_time": "2023-11-22T16:38:36.998610Z"
    }
   },
   "id": "e0eb9af081667f0a"
  },
  {
   "cell_type": "code",
   "execution_count": 34,
   "outputs": [
    {
     "data": {
      "text/plain": "year       8.630094e+00\nmileage    1.087760e+05\npower      6.546960e+01\nprice      1.955797e+06\ndtype: float64"
     },
     "execution_count": 34,
     "metadata": {},
     "output_type": "execute_result"
    }
   ],
   "source": [
    "data[['year', 'mileage', 'power', 'price']].std()"
   ],
   "metadata": {
    "collapsed": false,
    "ExecuteTime": {
     "end_time": "2023-11-22T16:38:37.048977Z",
     "start_time": "2023-11-22T16:38:37.029784Z"
    }
   },
   "id": "2a237427d7314d47"
  },
  {
   "cell_type": "code",
   "execution_count": 35,
   "outputs": [
    {
     "data": {
      "text/plain": "     name         year         mileage        power         price\n0  median  2010.000000    57000.000000   128.000000  8.700000e+05\n1    mean  2009.584212    92639.992628   141.604902  1.437479e+06\n2     max  2023.000000  1000000.000000  1000.000000  1.500000e+08\n3     min  1936.000000        0.000000     1.000000  2.700000e+02",
      "text/html": "<div>\n<style scoped>\n    .dataframe tbody tr th:only-of-type {\n        vertical-align: middle;\n    }\n\n    .dataframe tbody tr th {\n        vertical-align: top;\n    }\n\n    .dataframe thead th {\n        text-align: right;\n    }\n</style>\n<table border=\"1\" class=\"dataframe\">\n  <thead>\n    <tr style=\"text-align: right;\">\n      <th></th>\n      <th>name</th>\n      <th>year</th>\n      <th>mileage</th>\n      <th>power</th>\n      <th>price</th>\n    </tr>\n  </thead>\n  <tbody>\n    <tr>\n      <th>0</th>\n      <td>median</td>\n      <td>2010.000000</td>\n      <td>57000.000000</td>\n      <td>128.000000</td>\n      <td>8.700000e+05</td>\n    </tr>\n    <tr>\n      <th>1</th>\n      <td>mean</td>\n      <td>2009.584212</td>\n      <td>92639.992628</td>\n      <td>141.604902</td>\n      <td>1.437479e+06</td>\n    </tr>\n    <tr>\n      <th>2</th>\n      <td>max</td>\n      <td>2023.000000</td>\n      <td>1000000.000000</td>\n      <td>1000.000000</td>\n      <td>1.500000e+08</td>\n    </tr>\n    <tr>\n      <th>3</th>\n      <td>min</td>\n      <td>1936.000000</td>\n      <td>0.000000</td>\n      <td>1.000000</td>\n      <td>2.700000e+02</td>\n    </tr>\n  </tbody>\n</table>\n</div>"
     },
     "execution_count": 35,
     "metadata": {},
     "output_type": "execute_result"
    }
   ],
   "source": [
    "x = [['median', data['year'].median(), data['mileage'].median(), data['power'].median(), data['price'].median()],\n",
    "     ['mean', data['year'].mean(), data['mileage'].mean(), data['power'].mean(), data['price'].mean()],\n",
    "     ['max', data['year'].max(), data['mileage'].max(), data['power'].max(), data['price'].max()],\n",
    "     ['min', data['year'].min(), data['mileage'].min(), data['power'].min(), data['price'].min()]]\n",
    "pd.DataFrame(x, columns=['name', 'year', 'mileage', 'power', 'price'])"
   ],
   "metadata": {
    "collapsed": false,
    "ExecuteTime": {
     "end_time": "2023-11-22T16:38:37.125083Z",
     "start_time": "2023-11-22T16:38:37.048064Z"
    }
   },
   "id": "7e151b446faaf3e0"
  },
  {
   "cell_type": "code",
   "execution_count": 36,
   "outputs": [
    {
     "data": {
      "text/plain": "                   power         price\nbrand                                 \nAITO          559.000000  5.900000e+06\nAcura         260.548052  1.390738e+06\nAlfa Romeo    181.469136  9.565954e+05\nAston Martin  492.714286  1.084350e+07\nAudi          212.728119  2.399239e+06",
      "text/html": "<div>\n<style scoped>\n    .dataframe tbody tr th:only-of-type {\n        vertical-align: middle;\n    }\n\n    .dataframe tbody tr th {\n        vertical-align: top;\n    }\n\n    .dataframe thead th {\n        text-align: right;\n    }\n</style>\n<table border=\"1\" class=\"dataframe\">\n  <thead>\n    <tr style=\"text-align: right;\">\n      <th></th>\n      <th>power</th>\n      <th>price</th>\n    </tr>\n    <tr>\n      <th>brand</th>\n      <th></th>\n      <th></th>\n    </tr>\n  </thead>\n  <tbody>\n    <tr>\n      <th>AITO</th>\n      <td>559.000000</td>\n      <td>5.900000e+06</td>\n    </tr>\n    <tr>\n      <th>Acura</th>\n      <td>260.548052</td>\n      <td>1.390738e+06</td>\n    </tr>\n    <tr>\n      <th>Alfa Romeo</th>\n      <td>181.469136</td>\n      <td>9.565954e+05</td>\n    </tr>\n    <tr>\n      <th>Aston Martin</th>\n      <td>492.714286</td>\n      <td>1.084350e+07</td>\n    </tr>\n    <tr>\n      <th>Audi</th>\n      <td>212.728119</td>\n      <td>2.399239e+06</td>\n    </tr>\n  </tbody>\n</table>\n</div>"
     },
     "execution_count": 36,
     "metadata": {},
     "output_type": "execute_result"
    }
   ],
   "source": [
    "lst = ['brand', 'power', 'price']\n",
    "new = data[lst].groupby(by='brand').mean()\n",
    "new.head()"
   ],
   "metadata": {
    "collapsed": false,
    "ExecuteTime": {
     "end_time": "2023-11-22T16:38:37.246052Z",
     "start_time": "2023-11-22T16:38:37.123650Z"
    }
   },
   "id": "9f7ff8bd373305a4"
  }
 ],
 "metadata": {
  "kernelspec": {
   "display_name": "Python 3",
   "language": "python",
   "name": "python3"
  },
  "language_info": {
   "codemirror_mode": {
    "name": "ipython",
    "version": 2
   },
   "file_extension": ".py",
   "mimetype": "text/x-python",
   "name": "python",
   "nbconvert_exporter": "python",
   "pygments_lexer": "ipython2",
   "version": "2.7.6"
  }
 },
 "nbformat": 4,
 "nbformat_minor": 5
}
